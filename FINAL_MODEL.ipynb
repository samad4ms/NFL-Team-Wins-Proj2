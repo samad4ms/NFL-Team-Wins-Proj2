{
 "cells": [
  {
   "cell_type": "code",
   "execution_count": 117,
   "metadata": {},
   "outputs": [],
   "source": [
    "import pandas as pd\n",
    "import numpy as np\n",
    "import seaborn as sns\n",
    "import matplotlib.pyplot as plt\n",
    "\n",
    "import statsmodels.api as sm\n",
    "from sklearn.linear_model import LinearRegression, Lasso, LassoCV, Ridge, RidgeCV\n",
    "from sklearn.model_selection import train_test_split\n",
    "\n",
    "from sklearn.pipeline import Pipeline\n",
    "from sklearn.preprocessing import StandardScaler\n",
    "\n",
    "from sklearn.metrics import r2_score, mean_squared_error\n",
    "\n",
    "%matplotlib inline"
   ]
  },
  {
   "cell_type": "code",
   "execution_count": 80,
   "metadata": {},
   "outputs": [],
   "source": [
    "pd.set_option('display.max_columns', None)"
   ]
  },
  {
   "cell_type": "code",
   "execution_count": 4,
   "metadata": {},
   "outputs": [],
   "source": [
    "df = pd.read_pickle('DO_NOT_OVERWRITE.pkl')"
   ]
  },
  {
   "cell_type": "code",
   "execution_count": 81,
   "metadata": {},
   "outputs": [
    {
     "data": {
      "text/html": [
       "<div>\n",
       "<style scoped>\n",
       "    .dataframe tbody tr th:only-of-type {\n",
       "        vertical-align: middle;\n",
       "    }\n",
       "\n",
       "    .dataframe tbody tr th {\n",
       "        vertical-align: top;\n",
       "    }\n",
       "\n",
       "    .dataframe thead th {\n",
       "        text-align: right;\n",
       "    }\n",
       "</style>\n",
       "<table border=\"1\" class=\"dataframe\">\n",
       "  <thead>\n",
       "    <tr style=\"text-align: right;\">\n",
       "      <th></th>\n",
       "      <th>year</th>\n",
       "      <th>team</th>\n",
       "      <th>wins</th>\n",
       "      <th>pts/g</th>\n",
       "      <th>tot_pts_allowed</th>\n",
       "      <th>net_pts</th>\n",
       "      <th>total_dvoa</th>\n",
       "      <th>def_dvoa</th>\n",
       "      <th>off_dvoa</th>\n",
       "      <th>st_dvoa</th>\n",
       "      <th>tot_pts</th>\n",
       "      <th>scrm_plays</th>\n",
       "      <th>yds/g</th>\n",
       "      <th>yds/p</th>\n",
       "      <th>1st/g</th>\n",
       "      <th>3rd_made</th>\n",
       "      <th>3rd_att</th>\n",
       "      <th>3rd_pct</th>\n",
       "      <th>4th_made</th>\n",
       "      <th>4th_att</th>\n",
       "      <th>4th_pct</th>\n",
       "      <th>pen_off</th>\n",
       "      <th>pen_yards_off</th>\n",
       "      <th>top/g</th>\n",
       "      <th>off_fum</th>\n",
       "      <th>off_fum_lost</th>\n",
       "      <th>to_diff</th>\n",
       "      <th>rush_att</th>\n",
       "      <th>rush_att/g</th>\n",
       "      <th>rush_yds</th>\n",
       "      <th>rush_avg</th>\n",
       "      <th>rush_yds/g</th>\n",
       "      <th>rush_td</th>\n",
       "      <th>rush_20+</th>\n",
       "      <th>rush_40+</th>\n",
       "      <th>tackles</th>\n",
       "      <th>sacks</th>\n",
       "      <th>int</th>\n",
       "      <th>def_force_fum</th>\n",
       "      <th>def_fum_rec</th>\n",
       "      <th>drives</th>\n",
       "      <th>yds/dr</th>\n",
       "      <th>pts/dr</th>\n",
       "      <th>to/dr</th>\n",
       "      <th>int/dr</th>\n",
       "      <th>fum/dr</th>\n",
       "      <th>los/dr</th>\n",
       "      <th>plays/dr</th>\n",
       "      <th>top/dr</th>\n",
       "      <th>dsr</th>\n",
       "      <th>1st_x_3rd_pct</th>\n",
       "      <th>1_3_4</th>\n",
       "      <th>1st_total</th>\n",
       "      <th>1st/scrm</th>\n",
       "      <th>sack/tack</th>\n",
       "      <th>pts/top/g</th>\n",
       "      <th>long_rush_td</th>\n",
       "    </tr>\n",
       "  </thead>\n",
       "  <tbody>\n",
       "    <tr>\n",
       "      <td>0</td>\n",
       "      <td>2002</td>\n",
       "      <td>49ers</td>\n",
       "      <td>10</td>\n",
       "      <td>22.9</td>\n",
       "      <td>351</td>\n",
       "      <td>16</td>\n",
       "      <td>13.0</td>\n",
       "      <td>2.1</td>\n",
       "      <td>19.2</td>\n",
       "      <td>-4.1</td>\n",
       "      <td>367</td>\n",
       "      <td>1082</td>\n",
       "      <td>356.3</td>\n",
       "      <td>5.3</td>\n",
       "      <td>21.4</td>\n",
       "      <td>127</td>\n",
       "      <td>243</td>\n",
       "      <td>52</td>\n",
       "      <td>8</td>\n",
       "      <td>13</td>\n",
       "      <td>62</td>\n",
       "      <td>87</td>\n",
       "      <td>725</td>\n",
       "      <td>32.39</td>\n",
       "      <td>15</td>\n",
       "      <td>7</td>\n",
       "      <td>10</td>\n",
       "      <td>489</td>\n",
       "      <td>30.6</td>\n",
       "      <td>2244</td>\n",
       "      <td>4.6</td>\n",
       "      <td>140.2</td>\n",
       "      <td>16</td>\n",
       "      <td>12</td>\n",
       "      <td>1</td>\n",
       "      <td>842</td>\n",
       "      <td>32.0</td>\n",
       "      <td>19</td>\n",
       "      <td>23</td>\n",
       "      <td>8</td>\n",
       "      <td>167</td>\n",
       "      <td>33.59</td>\n",
       "      <td>2.10</td>\n",
       "      <td>.096</td>\n",
       "      <td>.060</td>\n",
       "      <td>.036</td>\n",
       "      <td>31.34</td>\n",
       "      <td>6.65</td>\n",
       "      <td>3.06</td>\n",
       "      <td>.728</td>\n",
       "      <td>1112.8</td>\n",
       "      <td>68993.6</td>\n",
       "      <td>342.4</td>\n",
       "      <td>0.316451</td>\n",
       "      <td>0.038005</td>\n",
       "      <td>0.707008</td>\n",
       "      <td>12</td>\n",
       "    </tr>\n",
       "    <tr>\n",
       "      <td>1</td>\n",
       "      <td>2003</td>\n",
       "      <td>49ers</td>\n",
       "      <td>7</td>\n",
       "      <td>24.0</td>\n",
       "      <td>337</td>\n",
       "      <td>47</td>\n",
       "      <td>-0.9</td>\n",
       "      <td>3.2</td>\n",
       "      <td>7.8</td>\n",
       "      <td>-5.6</td>\n",
       "      <td>384</td>\n",
       "      <td>1038</td>\n",
       "      <td>355.4</td>\n",
       "      <td>5.5</td>\n",
       "      <td>19.6</td>\n",
       "      <td>86</td>\n",
       "      <td>215</td>\n",
       "      <td>40</td>\n",
       "      <td>5</td>\n",
       "      <td>19</td>\n",
       "      <td>26</td>\n",
       "      <td>104</td>\n",
       "      <td>807</td>\n",
       "      <td>31.09</td>\n",
       "      <td>24</td>\n",
       "      <td>10</td>\n",
       "      <td>12</td>\n",
       "      <td>499</td>\n",
       "      <td>31.2</td>\n",
       "      <td>2279</td>\n",
       "      <td>4.6</td>\n",
       "      <td>142.4</td>\n",
       "      <td>16</td>\n",
       "      <td>13</td>\n",
       "      <td>2</td>\n",
       "      <td>819</td>\n",
       "      <td>42.0</td>\n",
       "      <td>23</td>\n",
       "      <td>23</td>\n",
       "      <td>13</td>\n",
       "      <td>192</td>\n",
       "      <td>29.29</td>\n",
       "      <td>1.94</td>\n",
       "      <td>.125</td>\n",
       "      <td>.078</td>\n",
       "      <td>.047</td>\n",
       "      <td>33.96</td>\n",
       "      <td>5.57</td>\n",
       "      <td>2.35</td>\n",
       "      <td>.676</td>\n",
       "      <td>784.0</td>\n",
       "      <td>20384.0</td>\n",
       "      <td>313.6</td>\n",
       "      <td>0.302119</td>\n",
       "      <td>0.051282</td>\n",
       "      <td>0.771952</td>\n",
       "      <td>26</td>\n",
       "    </tr>\n",
       "    <tr>\n",
       "      <td>2</td>\n",
       "      <td>2004</td>\n",
       "      <td>49ers</td>\n",
       "      <td>2</td>\n",
       "      <td>16.2</td>\n",
       "      <td>452</td>\n",
       "      <td>-193</td>\n",
       "      <td>-41.8</td>\n",
       "      <td>19.4</td>\n",
       "      <td>-21.2</td>\n",
       "      <td>-1.2</td>\n",
       "      <td>259</td>\n",
       "      <td>1026</td>\n",
       "      <td>286.6</td>\n",
       "      <td>4.5</td>\n",
       "      <td>17.5</td>\n",
       "      <td>72</td>\n",
       "      <td>222</td>\n",
       "      <td>32</td>\n",
       "      <td>14</td>\n",
       "      <td>19</td>\n",
       "      <td>74</td>\n",
       "      <td>103</td>\n",
       "      <td>859</td>\n",
       "      <td>29.18</td>\n",
       "      <td>33</td>\n",
       "      <td>19</td>\n",
       "      <td>-19</td>\n",
       "      <td>413</td>\n",
       "      <td>25.8</td>\n",
       "      <td>1449</td>\n",
       "      <td>3.5</td>\n",
       "      <td>90.6</td>\n",
       "      <td>10</td>\n",
       "      <td>7</td>\n",
       "      <td>1</td>\n",
       "      <td>871</td>\n",
       "      <td>29.0</td>\n",
       "      <td>9</td>\n",
       "      <td>24</td>\n",
       "      <td>12</td>\n",
       "      <td>199</td>\n",
       "      <td>22.59</td>\n",
       "      <td>1.19</td>\n",
       "      <td>.201</td>\n",
       "      <td>.106</td>\n",
       "      <td>.095</td>\n",
       "      <td>28.78</td>\n",
       "      <td>5.27</td>\n",
       "      <td>2.21</td>\n",
       "      <td>.618</td>\n",
       "      <td>560.0</td>\n",
       "      <td>41440.0</td>\n",
       "      <td>280.0</td>\n",
       "      <td>0.272904</td>\n",
       "      <td>0.033295</td>\n",
       "      <td>0.555175</td>\n",
       "      <td>7</td>\n",
       "    </tr>\n",
       "    <tr>\n",
       "      <td>3</td>\n",
       "      <td>2005</td>\n",
       "      <td>49ers</td>\n",
       "      <td>4</td>\n",
       "      <td>14.9</td>\n",
       "      <td>428</td>\n",
       "      <td>-189</td>\n",
       "      <td>-55.5</td>\n",
       "      <td>16.6</td>\n",
       "      <td>-40.4</td>\n",
       "      <td>1.5</td>\n",
       "      <td>239</td>\n",
       "      <td>865</td>\n",
       "      <td>224.2</td>\n",
       "      <td>4.1</td>\n",
       "      <td>11.9</td>\n",
       "      <td>49</td>\n",
       "      <td>204</td>\n",
       "      <td>24</td>\n",
       "      <td>5</td>\n",
       "      <td>8</td>\n",
       "      <td>62</td>\n",
       "      <td>106</td>\n",
       "      <td>780</td>\n",
       "      <td>27.37</td>\n",
       "      <td>31</td>\n",
       "      <td>14</td>\n",
       "      <td>-9</td>\n",
       "      <td>428</td>\n",
       "      <td>26.8</td>\n",
       "      <td>1689</td>\n",
       "      <td>3.9</td>\n",
       "      <td>105.6</td>\n",
       "      <td>9</td>\n",
       "      <td>11</td>\n",
       "      <td>3</td>\n",
       "      <td>902</td>\n",
       "      <td>28.0</td>\n",
       "      <td>16</td>\n",
       "      <td>18</td>\n",
       "      <td>10</td>\n",
       "      <td>192</td>\n",
       "      <td>17.96</td>\n",
       "      <td>1.03</td>\n",
       "      <td>.167</td>\n",
       "      <td>.109</td>\n",
       "      <td>.057</td>\n",
       "      <td>27.60</td>\n",
       "      <td>4.62</td>\n",
       "      <td>2.17</td>\n",
       "      <td>.522</td>\n",
       "      <td>285.6</td>\n",
       "      <td>17707.2</td>\n",
       "      <td>190.4</td>\n",
       "      <td>0.220116</td>\n",
       "      <td>0.031042</td>\n",
       "      <td>0.544392</td>\n",
       "      <td>33</td>\n",
       "    </tr>\n",
       "    <tr>\n",
       "      <td>4</td>\n",
       "      <td>2006</td>\n",
       "      <td>49ers</td>\n",
       "      <td>7</td>\n",
       "      <td>18.6</td>\n",
       "      <td>412</td>\n",
       "      <td>-114</td>\n",
       "      <td>-19.4</td>\n",
       "      <td>11.4</td>\n",
       "      <td>-8.2</td>\n",
       "      <td>0.1</td>\n",
       "      <td>298</td>\n",
       "      <td>918</td>\n",
       "      <td>303.8</td>\n",
       "      <td>5.3</td>\n",
       "      <td>15.2</td>\n",
       "      <td>72</td>\n",
       "      <td>209</td>\n",
       "      <td>34</td>\n",
       "      <td>6</td>\n",
       "      <td>11</td>\n",
       "      <td>54</td>\n",
       "      <td>93</td>\n",
       "      <td>818</td>\n",
       "      <td>29.00</td>\n",
       "      <td>24</td>\n",
       "      <td>16</td>\n",
       "      <td>-5</td>\n",
       "      <td>439</td>\n",
       "      <td>27.4</td>\n",
       "      <td>2172</td>\n",
       "      <td>4.9</td>\n",
       "      <td>135.8</td>\n",
       "      <td>12</td>\n",
       "      <td>20</td>\n",
       "      <td>6</td>\n",
       "      <td>854</td>\n",
       "      <td>34.0</td>\n",
       "      <td>14</td>\n",
       "      <td>23</td>\n",
       "      <td>13</td>\n",
       "      <td>185</td>\n",
       "      <td>25.77</td>\n",
       "      <td>1.53</td>\n",
       "      <td>.157</td>\n",
       "      <td>.081</td>\n",
       "      <td>.076</td>\n",
       "      <td>30.08</td>\n",
       "      <td>5.13</td>\n",
       "      <td>2.30</td>\n",
       "      <td>.608</td>\n",
       "      <td>516.8</td>\n",
       "      <td>27907.2</td>\n",
       "      <td>243.2</td>\n",
       "      <td>0.264924</td>\n",
       "      <td>0.039813</td>\n",
       "      <td>0.641379</td>\n",
       "      <td>120</td>\n",
       "    </tr>\n",
       "  </tbody>\n",
       "</table>\n",
       "</div>"
      ],
      "text/plain": [
       "   year   team  wins  pts/g  tot_pts_allowed  net_pts  total_dvoa  def_dvoa  \\\n",
       "0  2002  49ers    10   22.9              351       16        13.0       2.1   \n",
       "1  2003  49ers     7   24.0              337       47        -0.9       3.2   \n",
       "2  2004  49ers     2   16.2              452     -193       -41.8      19.4   \n",
       "3  2005  49ers     4   14.9              428     -189       -55.5      16.6   \n",
       "4  2006  49ers     7   18.6              412     -114       -19.4      11.4   \n",
       "\n",
       "   off_dvoa  st_dvoa  tot_pts  scrm_plays  yds/g  yds/p  1st/g  3rd_made  \\\n",
       "0      19.2     -4.1      367        1082  356.3    5.3   21.4       127   \n",
       "1       7.8     -5.6      384        1038  355.4    5.5   19.6        86   \n",
       "2     -21.2     -1.2      259        1026  286.6    4.5   17.5        72   \n",
       "3     -40.4      1.5      239         865  224.2    4.1   11.9        49   \n",
       "4      -8.2      0.1      298         918  303.8    5.3   15.2        72   \n",
       "\n",
       "   3rd_att  3rd_pct  4th_made  4th_att  4th_pct  pen_off  pen_yards_off  \\\n",
       "0      243       52         8       13       62       87            725   \n",
       "1      215       40         5       19       26      104            807   \n",
       "2      222       32        14       19       74      103            859   \n",
       "3      204       24         5        8       62      106            780   \n",
       "4      209       34         6       11       54       93            818   \n",
       "\n",
       "   top/g  off_fum  off_fum_lost  to_diff  rush_att  rush_att/g rush_yds  \\\n",
       "0  32.39       15             7       10       489        30.6     2244   \n",
       "1  31.09       24            10       12       499        31.2     2279   \n",
       "2  29.18       33            19      -19       413        25.8     1449   \n",
       "3  27.37       31            14       -9       428        26.8     1689   \n",
       "4  29.00       24            16       -5       439        27.4     2172   \n",
       "\n",
       "   rush_avg  rush_yds/g  rush_td  rush_20+  rush_40+  tackles  sacks  int  \\\n",
       "0       4.6       140.2       16        12         1      842   32.0   19   \n",
       "1       4.6       142.4       16        13         2      819   42.0   23   \n",
       "2       3.5        90.6       10         7         1      871   29.0    9   \n",
       "3       3.9       105.6        9        11         3      902   28.0   16   \n",
       "4       4.9       135.8       12        20         6      854   34.0   14   \n",
       "\n",
       "   def_force_fum  def_fum_rec drives yds/dr pts/dr to/dr int/dr fum/dr los/dr  \\\n",
       "0             23            8    167  33.59   2.10  .096   .060   .036  31.34   \n",
       "1             23           13    192  29.29   1.94  .125   .078   .047  33.96   \n",
       "2             24           12    199  22.59   1.19  .201   .106   .095  28.78   \n",
       "3             18           10    192  17.96   1.03  .167   .109   .057  27.60   \n",
       "4             23           13    185  25.77   1.53  .157   .081   .076  30.08   \n",
       "\n",
       "  plays/dr top/dr   dsr  1st_x_3rd_pct    1_3_4  1st_total  1st/scrm  \\\n",
       "0     6.65   3.06  .728         1112.8  68993.6      342.4  0.316451   \n",
       "1     5.57   2.35  .676          784.0  20384.0      313.6  0.302119   \n",
       "2     5.27   2.21  .618          560.0  41440.0      280.0  0.272904   \n",
       "3     4.62   2.17  .522          285.6  17707.2      190.4  0.220116   \n",
       "4     5.13   2.30  .608          516.8  27907.2      243.2  0.264924   \n",
       "\n",
       "   sack/tack  pts/top/g  long_rush_td  \n",
       "0   0.038005   0.707008            12  \n",
       "1   0.051282   0.771952            26  \n",
       "2   0.033295   0.555175             7  \n",
       "3   0.031042   0.544392            33  \n",
       "4   0.039813   0.641379           120  "
      ]
     },
     "execution_count": 81,
     "metadata": {},
     "output_type": "execute_result"
    }
   ],
   "source": [
    "df.head()"
   ]
  },
  {
   "cell_type": "markdown",
   "metadata": {},
   "source": [
    "**Remove Test**"
   ]
  },
  {
   "cell_type": "code",
   "execution_count": 88,
   "metadata": {},
   "outputs": [],
   "source": [
    "#KFOLD, manual#\n",
    "\n",
    "from sklearn.model_selection import KFold\n",
    "from sklearn.linear_model import LinearRegression, Ridge, Lasso #ordinary linear regression + w/ ridge regularization\n",
    "from sklearn.preprocessing import StandardScaler, PolynomialFeatures\n",
    "\n",
    "\n",
    "X, y = df.drop(['team', 'year', 'wins'],axis=1), df['wins']\n",
    "\n",
    "X, X_test, y, y_test = train_test_split(X, y, test_size=.2, random_state=1) #hold out 20% of the data for final testing\n",
    "\n",
    "# test splits should be the same if stats remains"
   ]
  },
  {
   "cell_type": "markdown",
   "metadata": {},
   "source": [
    "**KFOLD to Find Best Model**"
   ]
  },
  {
   "cell_type": "code",
   "execution_count": 93,
   "metadata": {
    "scrolled": true
   },
   "outputs": [
    {
     "name": "stdout",
     "output_type": "stream",
     "text": [
      "Simple regression scores:  [0.8480759750266922, 0.8500597378185083, 0.7796106887387656, 0.8742948373932602, 0.8721029841412099] \n",
      "\n",
      "Ridge scores:  [0.8509382736839901, 0.8519405117330208, 0.7756458035241252, 0.881469916556121, 0.8773184867604082] \n",
      "\n",
      "Lasso scores:  [0.7287399823352898, 0.7625420636766311, 0.7046574498017737, 0.7243521058165909, 0.7662570587449871] \n",
      "\n",
      "Degree 2 polynomial regression val R^2: -1.100\n",
      "Degree 2 polynomial regression Ridge val R^2: 0.662\n",
      "Simple mean cv r^2: 0.845 +- 0.034\n",
      "Ridge mean cv r^2: 0.847 +- 0.038\n",
      "Lasso mean cv r^2: 0.737 +- 0.024\n"
     ]
    }
   ],
   "source": [
    "#run the KfoldCV on Linear, Ridge, and Lasso models to find best model\n",
    "\n",
    "#this helps with the way kf will generate indices below\n",
    "X, y = np.array(X), np.array(y)\n",
    "\n",
    "kf = KFold(n_splits=5, shuffle=True, random_state = 1)\n",
    "cv_lm_r2s, cv_lm_reg_r2s, cv_lm_lasso_r2s  = [], [], [] #collect the validation results for both models\n",
    "\n",
    "for train_ind, val_ind in kf.split(X,y):\n",
    "    \n",
    "    X_train, y_train = X[train_ind], y[train_ind]\n",
    "    X_val, y_val = X[val_ind], y[val_ind] \n",
    "    \n",
    "    #linear regression\n",
    "    lm = LinearRegression()\n",
    "    lm_reg = Ridge(alpha=1)\n",
    "    lm_lasso = Lasso(alpha=1)\n",
    "\n",
    "    lm.fit(X_train, y_train)\n",
    "    cv_lm_r2s.append(lm.score(X_val, y_val))\n",
    "    \n",
    "    #ridge with feature scaling\n",
    "    scaler = StandardScaler()\n",
    "    X_train_scaled = scaler.fit_transform(X_train)\n",
    "    X_val_scaled = scaler.transform(X_val)\n",
    "    \n",
    "    lm_reg.fit(X_train_scaled, y_train)\n",
    "    cv_lm_reg_r2s.append(lm_reg.score(X_val_scaled, y_val))\n",
    "    \n",
    "    #lasso with feature scaling\n",
    "    scaler = StandardScaler()\n",
    "    X_train_scaled = scaler.fit_transform(X_train)\n",
    "    X_val_scaled = scaler.transform(X_val)\n",
    "    \n",
    "    lm_lasso.fit(X_train_scaled, y_train)\n",
    "    cv_lm_lasso_r2s.append(lm_lasso.score(X_val_scaled, y_val))\n",
    "    \n",
    "    #Poly regression on linear\n",
    "    poly = PolynomialFeatures(degree=2) \n",
    "    X_train_poly = poly.fit_transform(X_train)\n",
    "    X_val_poly = poly.transform(X_val)\n",
    "    lm_poly = LinearRegression()\n",
    "    lm_poly.fit(X_train_poly, y_train)\n",
    "    \n",
    "    #Poly regression on ridge\n",
    "    poly = PolynomialFeatures(degree=2) \n",
    "    \n",
    "    X_train_poly = poly.fit_transform(X_train)\n",
    "    X_val_poly = poly.transform(X_val)\n",
    "    \n",
    "    X_train_poly_scaled = scaler.fit_transform(X_train_poly)\n",
    "    X_val_poly_scaled = scaler.fit_transform(X_val_poly)\n",
    "    \n",
    "    lm_poly2 = Ridge(alpha=1)\n",
    "    lm_poly2.fit(X_train_poly_scaled, y_train)\n",
    "    \n",
    "\n",
    "print('Simple regression scores: ', cv_lm_r2s, '\\n')\n",
    "print('Ridge scores: ', cv_lm_reg_r2s, '\\n')\n",
    "print('Lasso scores: ', cv_lm_lasso_r2s, '\\n')\n",
    "\n",
    "print(f'Degree 2 polynomial regression val R^2: {lm_poly.score(X_val_poly, y_val):.3f}')\n",
    "print(f'Degree 2 polynomial regression Ridge val R^2: {lm_poly2.score(X_val_poly_scaled, y_val):.3f}')\n",
    "print(f'Simple mean cv r^2: {np.mean(cv_lm_r2s):.3f} +- {np.std(cv_lm_r2s):.3f}')\n",
    "print(f'Ridge mean cv r^2: {np.mean(cv_lm_reg_r2s):.3f} +- {np.std(cv_lm_reg_r2s):.3f}')\n",
    "print(f'Lasso mean cv r^2: {np.mean(cv_lm_lasso_r2s):.3f} +- {np.std(cv_lm_lasso_r2s):.3f}')"
   ]
  },
  {
   "cell_type": "code",
   "execution_count": 8,
   "metadata": {},
   "outputs": [],
   "source": [
    "selected_columns = ['pts/g', 'tot_pts_allowed', 'net_pts', 'total_dvoa', 'def_dvoa',\n",
    "       'off_dvoa', 'st_dvoa', 'tot_pts', 'scrm_plays', 'yds/g', 'yds/p',\n",
    "       '1st/g', '3rd_made', '3rd_att', '3rd_pct', '4th_made', '4th_att',\n",
    "       '4th_pct', 'pen_off', 'pen_yards_off', 'top/g', 'off_fum',\n",
    "       'off_fum_lost', 'to_diff', 'rush_att', 'rush_att/g', 'rush_yds',\n",
    "       'rush_avg', 'rush_yds/g', 'rush_td', 'rush_20+', 'rush_40+', 'tackles',\n",
    "       'sacks', 'int', 'def_force_fum', 'def_fum_rec', 'drives', 'yds/dr',\n",
    "       'pts/dr', 'to/dr', 'int/dr', 'fum/dr', 'los/dr', 'plays/dr', 'top/dr',\n",
    "       'dsr', '1st_x_3rd_pct', '1_3_4', '1st_total', '1st/scrm', 'sack/tack',\n",
    "       'pts/top/g', 'long_rush_td']"
   ]
  },
  {
   "cell_type": "code",
   "execution_count": null,
   "metadata": {},
   "outputs": [],
   "source": []
  },
  {
   "cell_type": "code",
   "execution_count": 76,
   "metadata": {
    "scrolled": true
   },
   "outputs": [
    {
     "name": "stderr",
     "output_type": "stream",
     "text": [
      "/Users/samuelouimet/opt/anaconda3/lib/python3.7/site-packages/sklearn/model_selection/_search.py:814: DeprecationWarning: The default of the `iid` parameter will change from True to False in version 0.22 and will be removed in 0.24. This will change numeric results when test-set sizes are unequal.\n",
      "  DeprecationWarning)\n"
     ]
    },
    {
     "data": {
      "text/plain": [
       "RidgeCV(alphas=array([1.00000000e-02, 1.04737090e-02, 1.09698580e-02, 1.14895100e-02,\n",
       "       1.20337784e-02, 1.26038293e-02, 1.32008840e-02, 1.38262217e-02,\n",
       "       1.44811823e-02, 1.51671689e-02, 1.58856513e-02, 1.66381689e-02,\n",
       "       1.74263339e-02, 1.82518349e-02, 1.91164408e-02, 2.00220037e-02,\n",
       "       2.09704640e-02, 2.19638537e-02, 2.30043012e-02, 2.40940356e-02,\n",
       "       2.52353917e-02, 2.64308149e-0...\n",
       "       4.15040476e+01, 4.34701316e+01, 4.55293507e+01, 4.76861170e+01,\n",
       "       4.99450512e+01, 5.23109931e+01, 5.47890118e+01, 5.73844165e+01,\n",
       "       6.01027678e+01, 6.29498899e+01, 6.59318827e+01, 6.90551352e+01,\n",
       "       7.23263390e+01, 7.57525026e+01, 7.93409667e+01, 8.30994195e+01,\n",
       "       8.70359136e+01, 9.11588830e+01, 9.54771611e+01, 1.00000000e+02]),\n",
       "        cv=5, fit_intercept=True, gcv_mode=None, normalize=False, scoring=None,\n",
       "        store_cv_values=False)"
      ]
     },
     "execution_count": 76,
     "metadata": {},
     "output_type": "execute_result"
    }
   ],
   "source": [
    "## Scale the data as before\n",
    "std = StandardScaler()\n",
    "std.fit(X_train)\n",
    "\n",
    "## Scale the Predictors on both the train and test set. test to be used later.\n",
    "X_tr = std.transform(X_train)\n",
    "X_te = std.transform(X_test)\n",
    "\n",
    "# Run the cross validation, find the best alpha\n",
    "alphavec = 10**np.linspace(-2,2,200)\n",
    "\n",
    "ridge_model = RidgeCV(alphas = alphavec, cv=5)\n",
    "ridge_model.fit(X_tr, y_train)"
   ]
  },
  {
   "cell_type": "code",
   "execution_count": 78,
   "metadata": {},
   "outputs": [
    {
     "data": {
      "text/plain": [
       "17.225859653987875"
      ]
     },
     "execution_count": 78,
     "metadata": {},
     "output_type": "execute_result"
    }
   ],
   "source": [
    "ridge_model.alpha_"
   ]
  },
  {
   "cell_type": "code",
   "execution_count": null,
   "metadata": {},
   "outputs": [],
   "source": []
  },
  {
   "cell_type": "markdown",
   "metadata": {},
   "source": [
    "**fit on all data except test with new alpha_param**"
   ]
  },
  {
   "cell_type": "code",
   "execution_count": 31,
   "metadata": {
    "scrolled": true
   },
   "outputs": [
    {
     "data": {
      "text/plain": [
       "RidgeCV(alphas=array([1.00000000e-02, 1.04737090e-02, 1.09698580e-02, 1.14895100e-02,\n",
       "       1.20337784e-02, 1.26038293e-02, 1.32008840e-02, 1.38262217e-02,\n",
       "       1.44811823e-02, 1.51671689e-02, 1.58856513e-02, 1.66381689e-02,\n",
       "       1.74263339e-02, 1.82518349e-02, 1.91164408e-02, 2.00220037e-02,\n",
       "       2.09704640e-02, 2.19638537e-02, 2.30043012e-02, 2.40940356e-02,\n",
       "       2.52353917e-02, 2.64308149e-0...\n",
       "       4.15040476e+01, 4.34701316e+01, 4.55293507e+01, 4.76861170e+01,\n",
       "       4.99450512e+01, 5.23109931e+01, 5.47890118e+01, 5.73844165e+01,\n",
       "       6.01027678e+01, 6.29498899e+01, 6.59318827e+01, 6.90551352e+01,\n",
       "       7.23263390e+01, 7.57525026e+01, 7.93409667e+01, 8.30994195e+01,\n",
       "       8.70359136e+01, 9.11588830e+01, 9.54771611e+01, 1.00000000e+02]),\n",
       "        cv=5, fit_intercept=True, gcv_mode=None, normalize=False, scoring=None,\n",
       "        store_cv_values=False)"
      ]
     },
     "execution_count": 31,
     "metadata": {},
     "output_type": "execute_result"
    }
   ],
   "source": [
    "# Do i need to scale x here? YES\n",
    "\n",
    "X_scaled = scaler.fit_transform(X)\n",
    "\n",
    "ridge_model.fit(X_scaled,y)"
   ]
  },
  {
   "cell_type": "code",
   "execution_count": 32,
   "metadata": {
    "scrolled": true
   },
   "outputs": [
    {
     "data": {
      "text/plain": [
       "0.8738583367680092"
      ]
     },
     "execution_count": 32,
     "metadata": {},
     "output_type": "execute_result"
    }
   ],
   "source": [
    "ridge_model.score(X_scaled,y)"
   ]
  },
  {
   "cell_type": "markdown",
   "metadata": {},
   "source": [
    "**RUN FINAL TESTS**"
   ]
  },
  {
   "cell_type": "code",
   "execution_count": 33,
   "metadata": {},
   "outputs": [],
   "source": [
    "test_set_pred = ridge_model.predict(X_te)"
   ]
  },
  {
   "cell_type": "code",
   "execution_count": 34,
   "metadata": {
    "scrolled": true
   },
   "outputs": [
    {
     "data": {
      "text/plain": [
       "0.7972825591483295"
      ]
     },
     "execution_count": 34,
     "metadata": {},
     "output_type": "execute_result"
    }
   ],
   "source": [
    "r2_score(y_test, test_set_pred)"
   ]
  },
  {
   "cell_type": "code",
   "execution_count": 99,
   "metadata": {},
   "outputs": [
    {
     "data": {
      "text/plain": [
       "1.1232619055446196"
      ]
     },
     "execution_count": 99,
     "metadata": {},
     "output_type": "execute_result"
    }
   ],
   "source": [
    "def mae(y_true, y_pred):\n",
    "    return np.mean(np.abs(y_pred - y_true)) \n",
    "\n",
    "mae(y_test, test_set_pred)"
   ]
  },
  {
   "cell_type": "code",
   "execution_count": 124,
   "metadata": {},
   "outputs": [
    {
     "data": {
      "text/plain": [
       "Text(0.5, 1.0, 'Predicted vs. Observed Win Totals')"
      ]
     },
     "execution_count": 124,
     "metadata": {},
     "output_type": "execute_result"
    },
    {
     "data": {
      "image/png": "[encoded data removed]",
      "text/plain": [
       "<Figure size 864x648 with 1 Axes>"
      ]
     },
     "metadata": {},
     "output_type": "display_data"
    }
   ],
   "source": [
    "sns.set(font_scale=1.5)\n",
    "plt.figure(figsize=(12,9))\n",
    "#sns.scatterplot(test_set_pred, y_test, hue=y_test)\n",
    "sns.regplot(x=test_set_pred, y=y_test);\n",
    "plt.xlabel('predicted wins')\n",
    "\n",
    "\n",
    "\n",
    "plt.title('Predicted vs. Observed Win Totals')"
   ]
  },
  {
   "cell_type": "code",
   "execution_count": null,
   "metadata": {
    "scrolled": true
   },
   "outputs": [],
   "source": []
  },
  {
   "cell_type": "code",
   "execution_count": 83,
   "metadata": {
    "scrolled": false
   },
   "outputs": [
    {
     "data": {
      "text/plain": [
       "array([ 0.24559804, -0.89925913,  0.70544928,  0.0053469 , -0.09599201,\n",
       "       -0.06825127,  0.06573765,  0.24617448,  0.12937665,  0.00494563,\n",
       "        0.04809833, -0.02939227, -0.01686001, -0.18767479,  0.12470149,\n",
       "        0.08578137, -0.29964938, -0.13226691, -0.05145545,  0.0283757 ,\n",
       "        0.11046717, -0.07852586, -0.0084564 ,  0.10396265,  0.07675125,\n",
       "        0.08188813, -0.05220222, -0.26849065, -0.05152185, -0.05812563,\n",
       "        0.23604805,  0.02379446,  0.0745049 , -0.07254471,  0.04790968,\n",
       "       -0.0056138 ,  0.13017794,  0.0268459 ,  0.24183779,  0.1691639 ,\n",
       "       -0.08715898, -0.14840869,  0.00796492,  0.05809747, -0.13260952,\n",
       "        0.0820757 , -0.00104608,  0.08024679,  0.01800663, -0.02939227,\n",
       "       -0.05984369,  0.08907387,  0.28388711, -0.0414336 ])"
      ]
     },
     "execution_count": 83,
     "metadata": {},
     "output_type": "execute_result"
    }
   ],
   "source": [
    "ridge_model.coef_"
   ]
  },
  {
   "cell_type": "code",
   "execution_count": 91,
   "metadata": {},
   "outputs": [],
   "source": [
    "#### DO NOT RE RUN ####\n",
    "\n",
    "features = X"
   ]
  },
  {
   "cell_type": "code",
   "execution_count": 94,
   "metadata": {
    "scrolled": true
   },
   "outputs": [
    {
     "data": {
      "text/plain": [
       "Index(['pts/g', 'tot_pts_allowed', 'net_pts', 'total_dvoa', 'def_dvoa',\n",
       "       'off_dvoa', 'st_dvoa', 'tot_pts', 'scrm_plays', 'yds/g', 'yds/p',\n",
       "       '1st/g', '3rd_made', '3rd_att', '3rd_pct', '4th_made', '4th_att',\n",
       "       '4th_pct', 'pen_off', 'pen_yards_off', 'top/g', 'off_fum',\n",
       "       'off_fum_lost', 'to_diff', 'rush_att', 'rush_att/g', 'rush_yds',\n",
       "       'rush_avg', 'rush_yds/g', 'rush_td', 'rush_20+', 'rush_40+', 'tackles',\n",
       "       'sacks', 'int', 'def_force_fum', 'def_fum_rec', 'drives', 'yds/dr',\n",
       "       'pts/dr', 'to/dr', 'int/dr', 'fum/dr', 'los/dr', 'plays/dr', 'top/dr',\n",
       "       'dsr', '1st_x_3rd_pct', '1_3_4', '1st_total', '1st/scrm', 'sack/tack',\n",
       "       'pts/top/g', 'long_rush_td'],\n",
       "      dtype='object')"
      ]
     },
     "execution_count": 94,
     "metadata": {},
     "output_type": "execute_result"
    }
   ],
   "source": [
    "features.columns"
   ]
  },
  {
   "cell_type": "code",
   "execution_count": 97,
   "metadata": {
    "scrolled": true
   },
   "outputs": [
    {
     "data": {
      "text/plain": [
       "(434, 54)"
      ]
     },
     "execution_count": 97,
     "metadata": {},
     "output_type": "execute_result"
    }
   ],
   "source": [
    "features.shape"
   ]
  },
  {
   "cell_type": "code",
   "execution_count": null,
   "metadata": {},
   "outputs": [],
   "source": []
  },
  {
   "cell_type": "code",
   "execution_count": 121,
   "metadata": {},
   "outputs": [],
   "source": [
    "err_vec_val = np.zeros(len(alphavec))"
   ]
  },
  {
   "cell_type": "code",
   "execution_count": 123,
   "metadata": {},
   "outputs": [
    {
     "data": {
      "text/plain": [
       "[<matplotlib.lines.Line2D at 0x1c22207f10>]"
      ]
     },
     "execution_count": 123,
     "metadata": {},
     "output_type": "execute_result"
    },
    {
     "data": {
      "image/png": "[encoded data removed]",
      "text/plain": [
       "<Figure size 432x288 with 1 Axes>"
      ]
     },
     "metadata": {
      "needs_background": "light"
     },
     "output_type": "display_data"
    }
   ],
   "source": [
    "plt.plot(np.log10(alphavec), err_vec_val)"
   ]
  },
  {
   "cell_type": "code",
   "execution_count": null,
   "metadata": {},
   "outputs": [],
   "source": []
  }
 ],
 "metadata": {
  "kernelspec": {
   "display_name": "Python 3",
   "language": "python",
   "name": "python3"
  },
  "language_info": {
   "codemirror_mode": {
    "name": "ipython",
    "version": 3
   },
   "file_extension": ".py",
   "mimetype": "text/x-python",
   "name": "python",
   "nbconvert_exporter": "python",
   "pygments_lexer": "ipython3",
   "version": "3.7.7"
  }
 },
 "nbformat": 4,
 "nbformat_minor": 2
}
